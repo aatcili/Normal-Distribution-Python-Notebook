{
 "cells": [
  {
   "cell_type": "code",
   "execution_count": 2,
   "metadata": {},
   "outputs": [],
   "source": [
    "import seaborn as sns\n",
    "\n",
    "import scipy.stats as scs\n",
    "import matplotlib.pyplot as plt\n",
    "from ipywidgets import interact\n",
    "import numpy as np\n",
    "\n",
    "\n",
    "import warnings\n",
    "warnings.filterwarnings(\"ignore\")"
   ]
  },
  {
   "cell_type": "code",
   "execution_count": null,
   "metadata": {},
   "outputs": [],
   "source": []
  },
  {
   "cell_type": "markdown",
   "metadata": {},
   "source": [
    "## Normal Dagilim\n",
    "\n",
    "Kullanim alanlari:\n",
    "- Hemen hemen her yerde"
   ]
  },
  {
   "cell_type": "markdown",
   "metadata": {},
   "source": [
    "### Normal dağılım nedir?\n",
    "- Gauss dağılımı veya Gauss tipi dağılım olarak da isimlendirilir. \n",
    "- En popüler random değişken tipidir. Doğal yaşamdan örneklemeler için kullanılır.\n",
    "- Merkezi limit teorem zaten bundan esinlenilmiştir. (Aynı dağılıma sahip yeteri kadar örneklemden alınan rastgele değerler, normal dağılıma uyar.)\n",
    "-  Simetrik çan eğrisi oluşturur. Ortalama değer ve standart sapma değeri alır. \n",
    "- Verinin %68i 1 standart sapma içinde kalır. Verinin %95i ortalamanın 2 standart sapma içine düşer, Verinin %99u, ortalamanın 3 standart sapma içine düşer. \n"
   ]
  },
  {
   "cell_type": "code",
   "execution_count": 3,
   "metadata": {},
   "outputs": [
    {
     "data": {
      "text/plain": [
       "array([144.99453952, 160.69943533, 150.05324321, 150.90897392,\n",
       "       157.53737181, 157.42411555, 151.67750052, 156.2581517 ,\n",
       "       147.88067894, 147.25584204])"
      ]
     },
     "execution_count": 3,
     "metadata": {},
     "output_type": "execute_result"
    }
   ],
   "source": [
    "np.random.normal(loc=150, scale=5, size=10)"
   ]
  },
  {
   "cell_type": "code",
   "execution_count": 4,
   "metadata": {},
   "outputs": [
    {
     "data": {
      "image/png": "[encoded data removed]",
      "text/plain": [
       "<Figure size 432x288 with 1 Axes>"
      ]
     },
     "metadata": {
      "needs_background": "light"
     },
     "output_type": "display_data"
    }
   ],
   "source": [
    "import seaborn as sns\n",
    "import scipy\n",
    "g = scs.distributions.norm(150,10)\n",
    "h=np.random.normal(loc=150, scale=10, size= 10000) ;\n",
    "sns.distplot(h,fit=scs.norm, kde=False, hist=True, color='r');"
   ]
  },
  {
   "cell_type": "code",
   "execution_count": 5,
   "metadata": {},
   "outputs": [
    {
     "data": {
      "text/plain": [
       "0.15865525393145707"
      ]
     },
     "execution_count": 5,
     "metadata": {},
     "output_type": "execute_result"
    }
   ],
   "source": [
    "g.sf(160)  # olasılık dağılımlarından girilen değer ve büyüğü olma ihtimali"
   ]
  },
  {
   "cell_type": "code",
   "execution_count": 6,
   "metadata": {},
   "outputs": [
    {
     "data": {
      "text/plain": [
       "0.5022"
      ]
     },
     "execution_count": 6,
     "metadata": {},
     "output_type": "execute_result"
    }
   ],
   "source": [
    "(h >= 150).mean()  # görüldüğü gibi normal dağılım örneklemim, toarik değere yakın"
   ]
  },
  {
   "cell_type": "code",
   "execution_count": 7,
   "metadata": {},
   "outputs": [
    {
     "data": {
      "image/png": "[encoded data removed]",
      "text/plain": [
       "<Figure size 432x288 with 1 Axes>"
      ]
     },
     "metadata": {
      "needs_background": "light"
     },
     "output_type": "display_data"
    }
   ],
   "source": [
    "N = 100000\n",
    "# x = np.random.randn(N)\n",
    "x = scs.norm.rvs(150,size=N)\n",
    "num_bins = 100\n",
    "plt.hist(x, bins=num_bins, facecolor='blue', alpha=0.5);"
   ]
  },
  {
   "cell_type": "markdown",
   "metadata": {},
   "source": [
    "## İnteraktif çizim ile ortalama ve varyans etkilerini görelim"
   ]
  },
  {
   "cell_type": "code",
   "execution_count": 15,
   "metadata": {},
   "outputs": [
    {
     "data": {
      "application/vnd.jupyter.widget-view+json": {
       "model_id": "950a409c70a24eb2a68e0772695cb0f7",
       "version_major": 2,
       "version_minor": 0
      },
      "text/plain": [
       "interactive(children=(Dropdown(description='mu', index=1, options=(120, 130, 140, 150, 160, 170, 180), value=1…"
      ]
     },
     "metadata": {},
     "output_type": "display_data"
    }
   ],
   "source": [
    "@interact(mu = [120,130,140,150,160,170,180])\n",
    "def normal(mu=130, var=10):\n",
    "    x = np.linspace(0,300,10000)\n",
    "\n",
    "    nor1 = scs.distributions.norm(mu, var).pdf(x)\n",
    "    nor2 = scs.distributions.norm(150, 10).pdf(x)\n",
    "\n",
    "    plt.plot(x, nor1, label = f\"$\\ mu = {mu}, \\sigma =  {var}$\")\n",
    "    plt.plot(x,nor2, label = f\"$\\ mu = 150, \\sigma = 30$\")\n",
    "    plt.legend()\n",
    "\n",
    "    plt.xlim(0,300)\n",
    "    plt.ylim(0,0.05)"
   ]
  },
  {
   "cell_type": "code",
   "execution_count": 9,
   "metadata": {},
   "outputs": [
    {
     "data": {
      "application/vnd.jupyter.widget-view+json": {
       "model_id": "2de92fc734d544ae8c0cc74f9f5857fc",
       "version_major": 2,
       "version_minor": 0
      },
      "text/plain": [
       "interactive(children=(FloatSlider(value=0.0, description='mu', max=1.0, min=-1.0), FloatSlider(value=1.0, desc…"
      ]
     },
     "metadata": {},
     "output_type": "display_data"
    }
   ],
   "source": [
    "import scipy.stats as scs\n",
    "import matplotlib.pyplot as plt\n",
    "from ipywidgets import interact\n",
    "import numpy as np\n",
    "\n",
    "@interact(mu=(-1.0,1.0,0.1), sigma=(0.2, 2.0, 0.1))\n",
    "def normal_dagilim(mu=0.0, sigma=1.0):\n",
    "    x = np.linspace(-5, 5., 1000)\n",
    "#     lamda = 1.0\n",
    "    expon = scs.distributions.norm(mu, sigma).pdf(x)\n",
    "    expon1 = scs.distributions.norm(0., 1.).pdf(x)\n",
    "    plt.plot(x, expon, label=f'$\\mu={mu}, \\sigma= {sigma}$')\n",
    "    plt.plot(x, expon1, label='$\\mu=0.0, \\sigma=1.0$')\n",
    "    plt.legend()\n",
    "    \n",
    "    plt.xlim(-5, 5.)\n",
    "    plt.ylim(-0.1, 2.)"
   ]
  },
  {
   "cell_type": "code",
   "execution_count": 10,
   "metadata": {},
   "outputs": [],
   "source": [
    "# Burada Central Limit Teorem konusunu öğrenelim. \n",
    "# merkezi limit teoremi\n",
    "# bu teoreme gore, rassal olarak seçilen bir topluluğu ait ortalamalar, normal dağılıma uygun bir grafik sergiler"
   ]
  },
  {
   "cell_type": "markdown",
   "metadata": {},
   "source": [
    "## Türkiyedeki Erkeklerin Boy Ortalamaları"
   ]
  },
  {
   "cell_type": "code",
   "execution_count": 11,
   "metadata": {},
   "outputs": [
    {
     "data": {
      "text/plain": [
       "<scipy.stats._distn_infrastructure.rv_frozen at 0x7f8f45299d68>"
      ]
     },
     "execution_count": 11,
     "metadata": {},
     "output_type": "execute_result"
    }
   ],
   "source": [
    "scs.norm(171, 6)"
   ]
  },
  {
   "cell_type": "code",
   "execution_count": 12,
   "metadata": {},
   "outputs": [
    {
     "data": {
      "image/png": "[encoded data removed]",
      "text/plain": [
       "<Figure size 432x288 with 1 Axes>"
      ]
     },
     "metadata": {
      "needs_background": "light"
     },
     "output_type": "display_data"
    }
   ],
   "source": [
    "tr_boy = scs.norm(171, 6)\n",
    "N = 2448\n",
    "plt.hist(tr_boy.rvs(N), label='Gercek Frekans', density=True, bins=50)\n",
    "plt.plot(np.linspace(150,190,500), tr_boy.pdf(np.linspace(150, 190, 500)), label=\"Teorik Dagilim\")\n",
    "plt.title(f\"Turkiye'de {N} yetiskin erkekten alinan boy orneklerinin dagilimi\")\n",
    "plt.xlabel(\"Boy\")\n",
    "plt.legend()\n",
    "plt.ylabel(\"Frekans\");"
   ]
  },
  {
   "cell_type": "markdown",
   "metadata": {},
   "source": [
    "## Meyve Ağırlıklarının Örneklenmesi"
   ]
  },
  {
   "cell_type": "code",
   "execution_count": 13,
   "metadata": {},
   "outputs": [
    {
     "name": "stderr",
     "output_type": "stream",
     "text": [
      "No handles with labels found to put in legend.\n"
     ]
    },
    {
     "data": {
      "text/plain": [
       "<matplotlib.legend.Legend at 0x7f8f4525f6a0>"
      ]
     },
     "execution_count": 13,
     "metadata": {},
     "output_type": "execute_result"
    },
    {
     "data": {
      "image/png": "[encoded data removed]",
      "text/plain": [
       "<Figure size 432x288 with 1 Axes>"
      ]
     },
     "metadata": {
      "needs_background": "light"
     },
     "output_type": "display_data"
    }
   ],
   "source": [
    "mandalina_ağırlığı = scs.norm(100,20)  # piyasada bulunan mandalinalara ait random değerler\n",
    "\n",
    "plt.hist(mandalina_ağırlığı.rvs(5000),density=True, bins=50);\n",
    "plt.plot(np.linspace(40,160,5000), mandalina_ağırlığı.pdf(np.linspace(40,160,5000)));\n",
    "plt.legend()"
   ]
  },
  {
   "cell_type": "markdown",
   "metadata": {},
   "source": [
    "- Rastgele seçilen bir mandalinanın 90 gr'dan fazla olma ihtimali nedir?"
   ]
  },
  {
   "cell_type": "code",
   "execution_count": 16,
   "metadata": {},
   "outputs": [
    {
     "data": {
      "text/plain": [
       "0.6914624612740131"
      ]
     },
     "execution_count": 16,
     "metadata": {},
     "output_type": "execute_result"
    }
   ],
   "source": [
    "mandalina_ağırlığı.sf(90)  # survival function.(also defined as 1 - cdf, but sf is sometimes more accurate).\n"
   ]
  },
  {
   "cell_type": "code",
   "execution_count": 29,
   "metadata": {},
   "outputs": [
    {
     "data": {
      "text/plain": [
       "0.3085375387259869"
      ]
     },
     "execution_count": 29,
     "metadata": {},
     "output_type": "execute_result"
    }
   ],
   "source": [
    "mandalina_ağırlığı.cdf(90) # cumulative distribution function ( 1-sf() )  cdf(x, loc=0, scale=1)"
   ]
  },
  {
   "cell_type": "code",
   "execution_count": 66,
   "metadata": {},
   "outputs": [
    {
     "data": {
      "text/plain": [
       "-1.1759117615936188"
      ]
     },
     "execution_count": 66,
     "metadata": {},
     "output_type": "execute_result"
    }
   ],
   "source": [
    "mandalina_ağırlığı.logcdf(90) # Log of the cumulative distribution function."
   ]
  },
  {
   "cell_type": "code",
   "execution_count": 51,
   "metadata": {},
   "outputs": [
    {
     "data": {
      "text/plain": [
       "69.9349770897126"
      ]
     },
     "execution_count": 51,
     "metadata": {},
     "output_type": "execute_result"
    }
   ],
   "source": [
    "mandalina_ağırlığı.rvs()  # random variates  rvs(loc=0, scale=1, size=1, random_state=None)"
   ]
  },
  {
   "cell_type": "code",
   "execution_count": 59,
   "metadata": {},
   "outputs": [
    {
     "data": {
      "text/plain": [
       "nan"
      ]
     },
     "execution_count": 59,
     "metadata": {},
     "output_type": "execute_result"
    }
   ],
   "source": [
    "mandalina_ağırlığı.isf(100) # Inverse survival function (inverse of sf)."
   ]
  },
  {
   "cell_type": "code",
   "execution_count": 64,
   "metadata": {},
   "outputs": [
    {
     "data": {
      "text/plain": [
       "0.012098536225957168"
      ]
     },
     "execution_count": 64,
     "metadata": {},
     "output_type": "execute_result"
    }
   ],
   "source": [
    "mandalina_ağırlığı.pdf(80)  # Probability density function."
   ]
  },
  {
   "cell_type": "code",
   "execution_count": 65,
   "metadata": {},
   "outputs": [
    {
     "data": {
      "text/plain": [
       "-4.4146708067586635"
      ]
     },
     "execution_count": 65,
     "metadata": {},
     "output_type": "execute_result"
    }
   ],
   "source": [
    "mandalina_ağırlığı.logpdf(80)  #Log of the probability density function."
   ]
  },
  {
   "cell_type": "code",
   "execution_count": 72,
   "metadata": {},
   "outputs": [
    {
     "data": {
      "text/plain": [
       "(array(100.), array(400.))"
      ]
     },
     "execution_count": 72,
     "metadata": {},
     "output_type": "execute_result"
    }
   ],
   "source": [
    "mandalina_ağırlığı.stats()   # Mean(‘m’), variance(‘v’), skew(‘s’), and/or kurtosis(‘k’)."
   ]
  },
  {
   "cell_type": "code",
   "execution_count": 73,
   "metadata": {},
   "outputs": [
    {
     "data": {
      "text/plain": [
       "array(4.41467081)"
      ]
     },
     "execution_count": 73,
     "metadata": {},
     "output_type": "execute_result"
    }
   ],
   "source": [
    "mandalina_ağırlığı.entropy()  # (Differential) entropy of the RV."
   ]
  },
  {
   "cell_type": "code",
   "execution_count": 74,
   "metadata": {},
   "outputs": [
    {
     "data": {
      "text/plain": [
       "100.0"
      ]
     },
     "execution_count": 74,
     "metadata": {},
     "output_type": "execute_result"
    }
   ],
   "source": [
    "mandalina_ağırlığı.mean() # Mean of the distribution."
   ]
  },
  {
   "cell_type": "code",
   "execution_count": 75,
   "metadata": {},
   "outputs": [
    {
     "data": {
      "text/plain": [
       "400.0"
      ]
     },
     "execution_count": 75,
     "metadata": {},
     "output_type": "execute_result"
    }
   ],
   "source": [
    "mandalina_ağırlığı.var() # Variance of the distribution."
   ]
  },
  {
   "cell_type": "code",
   "execution_count": 76,
   "metadata": {},
   "outputs": [
    {
     "data": {
      "text/plain": [
       "20.0"
      ]
     },
     "execution_count": 76,
     "metadata": {},
     "output_type": "execute_result"
    }
   ],
   "source": [
    "mandalina_ağırlığı.std() # Standard deviation  of the distribution."
   ]
  },
  {
   "cell_type": "code",
   "execution_count": 80,
   "metadata": {},
   "outputs": [
    {
     "data": {
      "text/plain": [
       "(94.933057937284, 105.066942062716)"
      ]
     },
     "execution_count": 80,
     "metadata": {},
     "output_type": "execute_result"
    }
   ],
   "source": [
    "mandalina_ağırlığı.interval(0.2)  # Endpoints of the range that contains fraction alpha [0, 1] of the distribution"
   ]
  },
  {
   "cell_type": "code",
   "execution_count": null,
   "metadata": {},
   "outputs": [],
   "source": []
  }
 ],
 "metadata": {
  "interpreter": {
   "hash": "31f2aee4e71d21fbe5cf8b01ff0e069b9275f58929596ceb00d14d90e3e16cd6"
  },
  "kernelspec": {
   "display_name": "Python 3.6.9 64-bit",
   "name": "python3"
  },
  "language_info": {
   "codemirror_mode": {
    "name": "ipython",
    "version": 3
   },
   "file_extension": ".py",
   "mimetype": "text/x-python",
   "name": "python",
   "nbconvert_exporter": "python",
   "pygments_lexer": "ipython3",
   "version": "3.6.9"
  }
 },
 "nbformat": 4,
 "nbformat_minor": 2
}
